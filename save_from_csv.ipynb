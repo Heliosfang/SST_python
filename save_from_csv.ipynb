{
 "cells": [
  {
   "cell_type": "code",
   "execution_count": 3,
   "metadata": {},
   "outputs": [
    {
     "name": "stdout",
     "output_type": "stream",
     "text": [
      "[[ 0.  0.  1.  1.]\n",
      " [ 0.  1.  1.  1.]\n",
      " [ 0.  2.  1.  1.]\n",
      " ...\n",
      " [50. 48.  1.  1.]\n",
      " [50. 49.  1.  1.]\n",
      " [50. 50.  1.  1.]]\n",
      "MULTIPOLYGON (((5 1, 4 1, 3 1, 2 1, 1 1, 1 2, 1 3, 2 3, 3 3, 4 3, 5 3, 6 3, 7 3, 8 3, 9 3, 10 3, 11 3, 12 3, 13 3, 14 3, 15 3, 15 4, 15 5, 15 6, 15 7, 15 8, 15 9, 15 10, 16 10, 17 10, 17 11, 17 12, 17 13, 17 14, 17 15, 17 16, 18 16, 19 16, 20 16, 20 17, 20 18, 20 19, 20 20, 20 21, 20 22, 21 22, 22 22, 22 21, 22 20, 22 19, 22 18, 22 17, 22 16, 22 15, 22 14, 22 13, 22 12, 21 12, 20 12, 19 12, 18 12, 18 11, 18 10, 18 9, 18 8, 18 7, 18 6, 18 5, 19 5, 20 5, 21 5, 22 5, 22 4, 22 3, 22 2, 22 1, 21 1, 20 1, 19 1, 18 1, 17 1, 16 1, 15 1, 14 1, 13 1, 12 1, 11 1, 10 1, 9 1, 8 1, 7 1, 6 1, 5 1)), ((7 19, 7 20, 7 21, 8 21, 8 22, 9 22, 10 22, 11 22, 12 22, 13 22, 13 21, 13 20, 13 19, 13 18, 13 17, 12 17, 11 17, 10 17, 9 17, 8 17, 7 17, 7 18, 7 19)), ((0 50, 0.99 50, 0.99 1, 0 1, 0 50)), ((8 32, 9 32, 10 32, 10 33, 10 34, 10 35, 10 36, 11 36, 11 35, 11 34, 11 33, 11 32, 11 31, 11 30, 11 29, 10 29, 9 29, 8 29, 7 29, 7 30, 7 31, 7 32, 8 32)), ((7 48, 7 49, 7 50, 8 50, 9 50, 10 50, 11 50, 12 50, 13 50, 13 49, 13 48, 13 47, 13 46, 13 45, 13 44, 13 43, 12 43, 11 43, 10 43, 9 43, 8 43, 7 43, 7 44, 7 45, 7 46, 7 47, 7 48)), ((20 41, 20 42, 20 43, 20 44, 20 45, 20 46, 20 47, 20 48, 20 49, 20 50, 21 50, 22 50, 23 50, 24 50, 25 50, 26 50, 27 50, 28 50, 29 50, 30 50, 31 50, 32 50, 33 50, 34 50, 35 50, 36 50, 37 50, 38 50, 39 50, 40 50, 41 50, 42 50, 43 50, 44 50, 45 50, 46 50, 47 50, 48 50, 49 50, 50 50, 50 49, 50 48, 50 47, 49 47, 48 47, 47 47, 46 47, 45 47, 45 48, 44 48, 43 48, 42 48, 41 48, 40 48, 39 48, 38 48, 38 47, 38 46, 38 45, 38 44, 38 43, 37 43, 36 43, 35 43, 35 44, 35 45, 35 46, 35 47, 34 47, 33 47, 32 47, 31 47, 30 47, 29 47, 28 47, 27 47, 26 47, 25 47, 25 46, 25 45, 25 44, 25 43, 25 42, 25 41, 25 40, 25 39, 25 38, 25 37, 25 36, 24 36, 23 36, 22 36, 21 36, 20 36, 20 37, 20 38, 20 39, 20 40, 20 41)), ((0 0.99, 50 0.99, 50 0, 0 0, 0 0.99)), ((29 6, 29 7, 29 8, 29 9, 29 10, 29 11, 29 12, 29 13, 29 14, 29 15, 29 16, 29 17, 29 18, 29 19, 29 20, 29 21, 29 22, 30 22, 31 22, 31 23, 31 24, 31 25, 31 26, 31 27, 31 28, 31 29, 32 29, 33 29, 34 29, 35 29, 36 29, 37 29, 38 29, 38 28, 38 27, 38 26, 37 26, 36 26, 36 25, 36 24, 36 23, 36 22, 36 21, 35 21, 34 21, 33 21, 32 21, 32 20, 32 19, 32 18, 32 17, 32 16, 32 15, 32 14, 33 14, 34 14, 35 14, 36 14, 37 14, 38 14, 39 14, 40 14, 41 14, 42 14, 42 13, 42 12, 42 11, 42 10, 42 9, 42 8, 42 7, 42 6, 42 5, 42 4, 42 3, 42 2, 43 2, 44 2, 45 2, 46 2, 47 2, 48 2, 49 2, 50 2, 50 1, 49 1, 48 1, 47 1, 46 1, 45 1, 44 1, 43 1, 42 1, 41 1, 40 1, 39 1, 38 1, 37 1, 36 1, 35 1, 34 1, 33 1, 32 1, 31 1, 30 1, 29 1, 29 2, 29 3, 29 4, 29 5, 29 6)), ((0 51, 50 51, 50 50.01, 0 50.01, 0 51)), ((32 38, 32 39, 32 40, 33 40, 34 40, 34 39, 34 38, 34 37, 34 36, 33 36, 32 36, 32 37, 32 38)), ((49 14, 49 15, 49 16, 49 17, 49 18, 49 19, 50 19, 50 18, 50 17, 50 16, 50 15, 50 14, 50 13, 50 12, 50 11, 50 10, 50 9, 49 9, 49 10, 49 11, 49 12, 49 13, 49 14)), ((50.01 51, 51 51, 51 0, 50.01 0, 50.01 51)), ((49 27, 49 28, 49 29, 50 29, 50 28, 50 27, 50 26, 49 26, 49 27)))\n"
     ]
    },
    {
     "data": {
      "image/png": "[encoded data removed]",
      "text/plain": [
       "<Figure size 640x480 with 1 Axes>"
      ]
     },
     "metadata": {},
     "output_type": "display_data"
    },
    {
     "data": {
      "image/png": "[encoded data removed]",
      "text/plain": [
       "<Figure size 640x480 with 1 Axes>"
      ]
     },
     "metadata": {},
     "output_type": "display_data"
    }
   ],
   "source": [
    "import numpy as np\n",
    "import shapely\n",
    "import matplotlib.pyplot as plt\n",
    "import fiona\n",
    "from shapely.geometry import mapping\n",
    "from shapely.geometry import shape\n",
    "\n",
    "# from geometry_msgs.msg import Polygon\n",
    "# from geometry_msgs.msg import Point\n",
    "# from geometry_msgs.msg import Point32\n",
    "\n",
    "\n",
    "\n",
    "\n",
    "def rectangle_to_polygon(rect):\n",
    "    poly = np.zeros((5,2))\n",
    "    poly[0,0] = rect[0]\n",
    "    poly[0,1] = rect[1]\n",
    "    \n",
    "    poly[1,0] = rect[0]\n",
    "    poly[1,1] = rect[1]+rect[3]\n",
    "    \n",
    "    poly[2,0] = rect[0]+rect[2]\n",
    "    poly[2,1] = rect[1]+rect[3]\n",
    "    \n",
    "    poly[3,0] = rect[0]+rect[2]\n",
    "    poly[3,1] = rect[1]\n",
    "    \n",
    "    poly[4,0] = rect[0]\n",
    "    poly[4,1] = rect[1]\n",
    "    \n",
    "    return shapely.polygons(poly)\n",
    "\n",
    "def save_polygon(polygons):\n",
    "    # save the polygons to the .shp file\n",
    "    schema = {\n",
    "        'geometry': 'Polygon',\n",
    "        'properties': {'id': 'int'},\n",
    "    }\n",
    "    with fiona.open('extended_polygon.shp','w','ESRI Shapefile',schema) as c:\n",
    "        id = 0\n",
    "        for p_fuse_i in polygons:\n",
    "            x,y = p_fuse_i.exterior.xy\n",
    "            # write the extended polygon to .shp file \n",
    "            c.write({\n",
    "                'geometry': mapping(p_fuse_i),\n",
    "                'properties':{'id':id},\n",
    "            })\n",
    "            id +=1\n",
    "\n",
    "def get_global_map():\n",
    "\n",
    "    global_map_list = []\n",
    "    schema = {\n",
    "    'geometry': 'Polygon',\n",
    "    'properties': {'id': 'int'},\n",
    "    }\n",
    "\n",
    "    with fiona.open(\"extended_polygon.shp\") as shapefile:\n",
    "        for record in shapefile:\n",
    "            geometry = shape(record['geometry'])\n",
    "\n",
    "            # if shapely.contains(geometry,shapely.Point(-28,-58)):\n",
    "            #     continue\n",
    "            global_map_list.append(geometry)\n",
    "            # x5,y5 = geometry.exterior.xy\n",
    "            # xi2,yi2 = geometry.interiors[0].xy\n",
    "        map_shapely = shapely.unary_union(global_map_list)\n",
    "\n",
    "        # print(type(map_shapely))\n",
    "        \n",
    "    \n",
    "    # map_polygon = shapely.Polygon()\n",
    "    return map_shapely\n",
    "\n",
    "\n",
    "def test():\n",
    "    rects = np.loadtxt('obstacle.csv',delimiter=',')\n",
    "    print(rects)\n",
    "    polygons = []\n",
    "    for rect in rects:\n",
    "        if rect[0]>0 and rect[1]>0 and rect[0]<50 and rect[1]<50:        \n",
    "            polygons.append(rectangle_to_polygon(rect=rect))\n",
    "    \n",
    "    polygons.append(shapely.Polygon(((0,0),(0,0.99),(50,0.99),(50,0),(0,0))))\n",
    "    polygons.append(shapely.Polygon(((0,1),(0,50),(0.99,50),(0.99,1),(0,1))))\n",
    "    polygons.append(shapely.Polygon(((0,50.01),(0,51),(50,51),(50,50.01),(0,50.01))))\n",
    "    polygons.append(shapely.Polygon(((50.01,0),(50.01,51),(51,51),(51,0),(50.01,0))))\n",
    "\n",
    "    # save to the file\n",
    "    save_polygon(polygons=polygons)\n",
    "        \n",
    "    multipolygon = shapely.unary_union(polygons)\n",
    "    print(multipolygon)\n",
    "    \n",
    "    for poly in multipolygon.geoms:\n",
    "        x,y = poly.exterior.xy\n",
    "        plt.plot(x,y)\n",
    "    plt.show()\n",
    "    \n",
    "if __name__ =='__main__':\n",
    "    test()\n",
    "    global_map = get_global_map()\n",
    "    for n in global_map.geoms:\n",
    "        x,y = n.exterior.xy\n",
    "        plt.plot(x,y)"
   ]
  }
 ],
 "metadata": {
  "kernelspec": {
   "display_name": "Python 3",
   "language": "python",
   "name": "python3"
  },
  "language_info": {
   "codemirror_mode": {
    "name": "ipython",
    "version": 3
   },
   "file_extension": ".py",
   "mimetype": "text/x-python",
   "name": "python",
   "nbconvert_exporter": "python",
   "pygments_lexer": "ipython3",
   "version": "3.8.10"
  },
  "orig_nbformat": 4,
  "vscode": {
   "interpreter": {
    "hash": "31f2aee4e71d21fbe5cf8b01ff0e069b9275f58929596ceb00d14d90e3e16cd6"
   }
  }
 },
 "nbformat": 4,
 "nbformat_minor": 2
}
