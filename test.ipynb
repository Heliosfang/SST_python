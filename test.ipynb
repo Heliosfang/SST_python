{
 "cells": [
  {
   "cell_type": "code",
   "execution_count": 5,
   "metadata": {},
   "outputs": [
    {
     "name": "stdout",
     "output_type": "stream",
     "text": [
      "POINT (1 3)\n",
      "POINT (2 1.5)\n",
      "POINT (3 1)\n",
      "POINT (0 0)\n",
      "POINT (4 6)\n",
      "POINT (8 8)\n",
      "POINT (6 10)\n"
     ]
    },
    {
     "ename": "IndexError",
     "evalue": "list index out of range",
     "output_type": "error",
     "traceback": [
      "\u001b[0;31m---------------------------------------------------------------------------\u001b[0m",
      "\u001b[0;31mIndexError\u001b[0m                                Traceback (most recent call last)",
      "Cell \u001b[0;32mIn[5], line 142\u001b[0m\n\u001b[1;32m    138\u001b[0m     n11 \u001b[39m=\u001b[39m ctypes\u001b[39m.\u001b[39mcast(p4[i]\u001b[39m.\u001b[39mobject, ctypes\u001b[39m.\u001b[39mpy_object)\u001b[39m.\u001b[39mvalue\n\u001b[1;32m    139\u001b[0m     \u001b[39mprint\u001b[39m(n11\u001b[39m.\u001b[39mpose)\n\u001b[0;32m--> 142\u001b[0m \u001b[39mprint\u001b[39m(\u001b[39m\"\u001b[39m\u001b[39mparent 11\u001b[39m\u001b[39m'\u001b[39m\u001b[39ms first child: \u001b[39m\u001b[39m\"\u001b[39m,n11\u001b[39m.\u001b[39;49mchildren[\u001b[39m0\u001b[39;49m]\u001b[39m.\u001b[39mcost)\n\u001b[1;32m    145\u001b[0m n21 \u001b[39m=\u001b[39m ctypes\u001b[39m.\u001b[39mcast(p3[\u001b[39m0\u001b[39m]\u001b[39m.\u001b[39mobject, ctypes\u001b[39m.\u001b[39mpy_object)\u001b[39m.\u001b[39mvalue\n\u001b[1;32m    147\u001b[0m \u001b[39mprint\u001b[39m(\u001b[39m\"\u001b[39m\u001b[39mNearest to (4,5.8):\u001b[39m\u001b[39m\"\u001b[39m,n21\u001b[39m.\u001b[39mpose)\n",
      "\u001b[0;31mIndexError\u001b[0m: list index out of range"
     ]
    }
   ],
   "source": [
    "import shapely\n",
    "import shapely.ops\n",
    "import numpy as np\n",
    "import matplotlib.pyplot as plt\n",
    "import fiona\n",
    "from shapely.geometry import shape\n",
    "import random\n",
    "from shapely import Point as Point\n",
    "from rtree import index\n",
    "import ctypes\n",
    "\n",
    "class CircleNode:\n",
    "    def __init__(self,id,center,active_p,active_cost) -> None:\n",
    "        self.id = id\n",
    "        self.center = center\n",
    "        self.active_p = active_p\n",
    "        self.active_cost = active_cost\n",
    "\n",
    "    def update_active(self,point,cost):\n",
    "        self.active_p = point\n",
    "        self.active_cost = cost\n",
    "\n",
    "class Node:\n",
    "    def __init__(self,id,pose,cost,parent = None,children = [],active=True,add_children = True):\n",
    "        self.id = id\n",
    "        self.pose =pose\n",
    "        self.cost = cost\n",
    "        self.parent = parent\n",
    "        self.children = children\n",
    "        self.active = active\n",
    "        if parent is not None and add_children:\n",
    "            parent.children.append(self)\n",
    "\n",
    "    def updateparent(self,data):\n",
    "        if self.parent is not None:\n",
    "            idx = 0\n",
    "            for n in self.parent.children:\n",
    "                if n.id == data.id:\n",
    "                    self.parent.children[idx].active = data.active\n",
    "                    self.parent.updateparent(self.parent)\n",
    "                    return\n",
    "                idx+=1\n",
    "\n",
    "    def updatechildren(self,data):\n",
    "        if not len(self.children)==0:\n",
    "            idx = 0\n",
    "            for n in self.children:\n",
    "                self.children[idx].parent.active = data.active\n",
    "                self.children[idx].updatechildren(self.children[idx])\n",
    "                idx +=1\n",
    "\n",
    "\n",
    "idx = index.Index()\n",
    "\n",
    "Node1 = CircleNode(1,Point(0,0),Point(0,0),9)\n",
    "\n",
    "Node2 = CircleNode(2,Point(2,2),Point(2,2),8)\n",
    "Node3 = CircleNode(3,Point(4,4),Point(4,4),7)\n",
    "Node4 = CircleNode(4,Point(6,6),Point(6,6),6)\n",
    "\n",
    "idx.insert(Node1.id,(Node1.center.x,Node1.center.y),Node1)\n",
    "idx.insert(Node2.id,(Node2.center.x,Node2.center.y),Node2)\n",
    "\n",
    "idx.insert(Node3.id,(Node3.center.x,Node3.center.y),Node3)\n",
    "idx.insert(Node4.id,(Node4.center.x,Node4.center.y),Node4)\n",
    "\n",
    "p = list(idx.nearest((1.5,1.5),1,objects=True))\n",
    "\n",
    "# print(p[0].object.center)\n",
    "\n",
    "idx.delete(p[0].object.id,(p[0].object.center.x,p[0].object.center.y))\n",
    "Nodei = CircleNode(p[0].object.id,p[0].object.center,p[0].object.active_p,p[0].object.active_cost)\n",
    "Nodei.update_active(Point(1.5,1.5),0.5)\n",
    "\n",
    "\n",
    "idx.insert(Nodei.id,(Nodei.center.x,Nodei.center.y),Nodei)\n",
    "\n",
    "p2 = list(idx.nearest((1.5,1.5),1,objects=True))\n",
    "\n",
    "# print(p2[0].object.active_p)\n",
    "# print(p2[0].object.center)\n",
    "\n",
    "pidx = index.Index()\n",
    "\n",
    "PNode1 = Node(1,Point(0.0,0.0),0,None,[])\n",
    "# print(PNode1.children)\n",
    "\n",
    "PNode11 = Node(2,Point(1,3),3.5,PNode1,[])\n",
    "\n",
    "# print(PNode11.children)\n",
    "# print(PNode1.children)\n",
    "\n",
    "\n",
    "\n",
    "PNode12 = Node(3,Point(3,1),3.5,PNode1,[])\n",
    "# print(PNode12.children)\n",
    "# print(PNode1.children)\n",
    "\n",
    "\n",
    "\n",
    "PNode21 = Node(4,Point(4,6),7,PNode11,[])\n",
    "# print(PNode21.children)\n",
    "# print(PNode1.children)\n",
    "# print(PNode12.children)\n",
    "\n",
    "\n",
    "\n",
    "PNode22 = Node(5,Point(2,1.5),5.5,PNode11,[])\n",
    "# print(PNode22.children)\n",
    "\n",
    "\n",
    "PNode31 = Node(6,Point(6,10),10.5,PNode21,[])\n",
    "# print(PNode31.children)\n",
    "\n",
    "\n",
    "PNode32 = Node(7,Point(8,8),17,PNode21,[])\n",
    "\n",
    "# print(PNode32.children)\n",
    "# print(PNode32.parent.pose)\n",
    "\n",
    "\n",
    "pidx.insert(PNode1.id,(PNode1.pose.x,PNode1.pose.y),id(PNode1))\n",
    "pidx.insert(PNode12.id,(PNode12.pose.x,PNode12.pose.y),id(PNode12))\n",
    "pidx.insert(PNode11.id,(PNode11.pose.x,PNode11.pose.y),id(PNode11))\n",
    "pidx.insert(PNode21.id,(PNode21.pose.x,PNode21.pose.y),id(PNode21))\n",
    "pidx.insert(PNode22.id,(PNode22.pose.x,PNode22.pose.y),id(PNode22))\n",
    "pidx.insert(PNode31.id,(PNode31.pose.x,PNode31.pose.y),id(PNode31))\n",
    "pidx.insert(PNode32.id,(PNode32.pose.x,PNode32.pose.y),id(PNode32))\n",
    "\n",
    "# print(pidx)\n",
    "PNode21.cost = 11\n",
    "\n",
    "PNode33 = Node(8,Point(4,5.8),6,PNode22)\n",
    "p3 = list(pidx.nearest((PNode33.pose.x,PNode33.pose.y),1,objects=True))\n",
    "\n",
    "p4 = list(pidx.nearest((1,3),10,objects=True))\n",
    "for i in range(len(p4)):\n",
    "    n11 = ctypes.cast(p4[i].object, ctypes.py_object).value\n",
    "    print(n11.pose)\n",
    "\n",
    "\n",
    "print(\"parent 11's first child: \",n11.children[0].cost)\n",
    "\n",
    "\n",
    "n21 = ctypes.cast(p3[0].object, ctypes.py_object).value\n",
    "\n",
    "print(\"Nearest to (4,5.8):\",n21.pose)\n",
    "\n",
    "\n",
    "print(n21.cost)\n",
    "print(n21.children[0].children)\n",
    "\n",
    "address = id(PNode21)\n",
    "n330 = ctypes.cast(address, ctypes.py_object).value\n",
    "print(n330)\n",
    "\n",
    "# print(p3[0].object)\n",
    "print(PNode21)\n",
    "\n",
    "\n",
    "PNodereplace = Node(p3[0].object.id,p3[0].object.pose,p3[0].object.cost,p3[0].object.parent,p3[0].object.children,False,False)\n",
    "\n",
    "p3[0].object.updateparent(PNodereplace)\n",
    "p3[0].object.updatechildren(PNodereplace)\n",
    "\n",
    "pidx.delete(p3[0].object.id,(p3[0].object.pose.x,p3[0].object.pose.y))\n",
    "\n",
    "pidx.insert(PNodereplace.id,(PNodereplace.pose.x,PNodereplace.pose.y),PNodereplace)\n",
    "# pidx.insert(PNode33.id,(PNode33.pose.x,PNode33.pose.y),PNode33)\n",
    "\n",
    "\n",
    "p4 = list(pidx.nearest((PNode33.pose.x,PNode33.pose.y),1,objects=True))\n",
    "print(\"find the nearest point to (4,5.8) again:\", p4[0].object.pose)\n",
    "print(p4[0].object.active)\n",
    "print(p4[0].object.children[0].parent.active)\n",
    "print(p4[0].object.children[0].children)\n",
    "\n",
    "print(p4[0].object.parent.parent.children[0].children[0].active)\n",
    "\n"
   ]
  },
  {
   "cell_type": "code",
   "execution_count": 2,
   "metadata": {},
   "outputs": [
    {
     "name": "stdout",
     "output_type": "stream",
     "text": [
      "-2\n",
      "-2\n",
      "-2\n",
      "-2\n",
      "-2\n",
      "-2\n",
      "-2\n"
     ]
    },
    {
     "data": {
      "text/plain": [
       "-2"
      ]
     },
     "execution_count": 2,
     "metadata": {},
     "output_type": "execute_result"
    }
   ],
   "source": [
    "def add5(i):\n",
    "    if i<0:\n",
    "        i=i-1\n",
    "    else:\n",
    "        i=add5(i-1)\n",
    "    print(i)\n",
    "    return i\n",
    "\n",
    "add5(5)\n",
    "\n",
    "\n",
    "\n"
   ]
  },
  {
   "cell_type": "code",
   "execution_count": 4,
   "metadata": {},
   "outputs": [
    {
     "data": {
      "text/plain": [
       "[<matplotlib.lines.Line2D at 0x7ffb5c11ec10>]"
      ]
     },
     "execution_count": 4,
     "metadata": {},
     "output_type": "execute_result"
    },
    {
     "data": {
      "image/png": "[encoded data removed]",
      "text/plain": [
       "<Figure size 640x480 with 1 Axes>"
      ]
     },
     "metadata": {},
     "output_type": "display_data"
    }
   ],
   "source": [
    "import numpy as np\n",
    "import matplotlib.pyplot as plt\n",
    "t = np.linspace(-2,2,100)\n",
    "a = np.exp(1.2*t)+np.exp(-1*t)\n",
    "plt.plot(t,a)\n"
   ]
  },
  {
   "cell_type": "code",
   "execution_count": 18,
   "metadata": {},
   "outputs": [
    {
     "name": "stdout",
     "output_type": "stream",
     "text": [
      "[[0, 0, 0, 0, 1, 1, 1]]\n",
      "3\n",
      "[[1, 3]]\n",
      "[1, 2, 3, 4, 5]\n",
      "[2, 3]\n"
     ]
    }
   ],
   "source": [
    "import casadi as ca\n",
    "a = ca.DM([[1,2],[3,4]])\n",
    "ca.norm_2(a[:,-1]-a[:,-2])\n",
    "\n",
    "\n",
    "a = ca.DM([[0.1,0.2,0.3,0.5,1.2,1.2,1.2]])\n",
    "a=a-1.2\n",
    "\n",
    "print(a>=0)\n",
    "b=a>=0\n",
    "print(ca.sum2(b))\n",
    "\n",
    "print(ca.horzcat(1,3))\n",
    "b = ca.DM([1,2,3,4,5])\n",
    "print(b)\n",
    "c = b\n",
    "d=ca.Slice(1,3)\n",
    "\n",
    "print(b[d])"
   ]
  },
  {
   "cell_type": "code",
   "execution_count": 4,
   "metadata": {},
   "outputs": [
    {
     "ename": "NameError",
     "evalue": "name '__file__' is not defined",
     "output_type": "error",
     "traceback": [
      "\u001b[0;31m---------------------------------------------------------------------------\u001b[0m",
      "\u001b[0;31mNameError\u001b[0m                                 Traceback (most recent call last)",
      "Cell \u001b[0;32mIn[4], line 3\u001b[0m\n\u001b[1;32m      1\u001b[0m \u001b[39mimport\u001b[39;00m \u001b[39mos\u001b[39;00m\n\u001b[0;32m----> 3\u001b[0m script_dir \u001b[39m=\u001b[39m os\u001b[39m.\u001b[39mpath\u001b[39m.\u001b[39mdirname(\u001b[39m__file__\u001b[39;49m)\n\u001b[1;32m      4\u001b[0m \u001b[39mprint\u001b[39m(\u001b[39m\"\u001b[39m\u001b[39mscript dir:\u001b[39m\u001b[39m\"\u001b[39m,script_dir)\n\u001b[1;32m      6\u001b[0m last_dir \u001b[39m=\u001b[39m os\u001b[39m.\u001b[39mpath\u001b[39m.\u001b[39msplit(script_dir)[\u001b[39m0\u001b[39m]\n",
      "\u001b[0;31mNameError\u001b[0m: name '__file__' is not defined"
     ]
    }
   ],
   "source": [
    "import os\n",
    "\n",
    "script_dir = os.path.dirname(__file__)\n",
    "print(\"script dir:\",script_dir)\n",
    "\n",
    "last_dir = os.path.split(script_dir)[0]\n",
    "print(\"last script is:\",last_dir)"
   ]
  }
 ],
 "metadata": {
  "kernelspec": {
   "display_name": "Python 3",
   "language": "python",
   "name": "python3"
  },
  "language_info": {
   "codemirror_mode": {
    "name": "ipython",
    "version": 3
   },
   "file_extension": ".py",
   "mimetype": "text/x-python",
   "name": "python",
   "nbconvert_exporter": "python",
   "pygments_lexer": "ipython3",
   "version": "3.8.10"
  },
  "orig_nbformat": 4,
  "vscode": {
   "interpreter": {
    "hash": "31f2aee4e71d21fbe5cf8b01ff0e069b9275f58929596ceb00d14d90e3e16cd6"
   }
  }
 },
 "nbformat": 4,
 "nbformat_minor": 2
}
